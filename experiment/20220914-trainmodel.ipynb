{
 "cells": [
  {
   "cell_type": "code",
   "execution_count": 2,
   "id": "02e4c10b",
   "metadata": {},
   "outputs": [],
   "source": [
    "import os\n",
    "os.environ[\"CUDA_DEVICE_ORDER\"]=\"PCI_BUS_ID\"   # see issue #152\n",
    "os.environ[\"CUDA_VISIBLE_DEVICES\"]=\"0\""
   ]
  },
  {
   "cell_type": "code",
   "execution_count": 3,
   "id": "22d5ffc0",
   "metadata": {},
   "outputs": [],
   "source": [
    "import os, datetime, argparse, tqdm, pickle\n",
    "import numpy as np\n",
    "import pandas as pd\n",
    "import geopandas as gpd\n",
    "import matplotlib.pyplot as plt\n",
    "import utils\n",
    "import mymodels\n",
    "import pickle\n",
    "import tensorflow as tf\n",
    "from tensorflow import keras\n",
    "from tensorflow.keras import layers\n",
    "\n",
    "\n",
    "from os.path import join as pjoin\n",
    "\n",
    "def str2bool(v): \n",
    "    if isinstance(v, bool): \n",
    "        return v \n",
    "    if v.lower() in ('yes', 'true', 't', 'y', '1'): \n",
    "        return True \n",
    "    elif v.lower() in ('no', 'false', 'f', 'n', '0'): \n",
    "        return False \n",
    "    else: raise argparse.ArgumentTypeError('Boolean value expected.')\n"
   ]
  },
  {
   "cell_type": "code",
   "execution_count": 4,
   "id": "f4737f03",
   "metadata": {},
   "outputs": [],
   "source": [
    "parser = argparse.ArgumentParser()\n",
    "parser.add_argument('--file_traf', type = str, default = '../prepdata/traffic-volume-A-20180101-20190101.df')\n",
    "parser.add_argument('--file_coarse', type = str, default = '../prepdata/coarse_grained_lte.h5')\n",
    "parser.add_argument('--file_fine', type = str, default = '../prepdata/fine_grained_lte.h5')\n",
    "parser.add_argument('--patch_size', type = int, default = 4)\n",
    "parser.add_argument('--model_name', type = str, default = 'MyDCGRUSTE0ZCFBU')\n",
    "parser.add_argument('--memo', type = str, default = 'T0')\n",
    "\n",
    "parser.add_argument('--train_ratio', type = float, default = 0.7,\n",
    "                    help = 'training set [default : 0.7]')\n",
    "parser.add_argument('--val_ratio', type = float, default = 0.1,\n",
    "                    help = 'validation set [default : 0.1]')\n",
    "parser.add_argument('--test_ratio', type = float, default = 0.2,\n",
    "                    help = 'testing set [default : 0.2]')\n",
    "parser.add_argument('--cnn_size', type = int, default = 3)\n",
    "parser.add_argument('--P', type = int, default = 6)\n",
    "parser.add_argument('--Q', type = int, default = 1)\n",
    "parser.add_argument('--time_slot', type = int, default = 60, \n",
    "                    help = 'a time step is 60 mins')\n",
    "\n",
    "parser.add_argument('--L', type = int, default = 1,\n",
    "                    help = 'number of STAtt Blocks')\n",
    "# parser.add_argument('--LZ', type = int, default = 2,\n",
    "#                     help = 'number of Regional STAtt Blocks')\n",
    "parser.add_argument('--K', type = int, default = 8,\n",
    "                    help = 'number of attention heads')\n",
    "parser.add_argument('--d', type = int, default = 8,\n",
    "                    help = 'dims of each head attention outputs')\n",
    "parser.add_argument('--D', type = int, default = 64)\n",
    "parser.add_argument('--batch_size', type = int, default = 32,\n",
    "                    help = 'batch size')\n",
    "parser.add_argument('--max_epoch', type = int, default = 1000,\n",
    "                    help = 'epoch to run')\n",
    "parser.add_argument('--patience', type = int, default = 10,\n",
    "                    help = 'patience for early stop')\n",
    "parser.add_argument('--learning_rate', type=float, default = 0.001,\n",
    "                    help = 'initial learning rate')\n",
    "parser.add_argument('--decay_epoch', type=int, default = 5,\n",
    "                    help = 'decay epoch')\n",
    "\n",
    "parser.add_argument('--save_dir', default = 'test',\n",
    "                    help = 'save_dir')\n",
    "\n",
    "args = parser.parse_args([])"
   ]
  },
  {
   "cell_type": "code",
   "execution_count": 5,
   "id": "d7d638b8",
   "metadata": {},
   "outputs": [
    {
     "name": "stdout",
     "output_type": "stream",
     "text": [
      "(1540, 6, 48) (1540, 6, 31, 38) (1540, 6, 30, 33) (1540, 7, 2) (1540, 1, 48)\n",
      "(214, 6, 48) (214, 6, 31, 38) (214, 6, 30, 33) (214, 7, 2) (214, 1, 48)\n",
      "(436, 6, 48) (436, 6, 31, 38) (436, 6, 30, 33) (436, 7, 2) (436, 1, 48)\n",
      "Closeness Mean\t(315.33313, 437.94702, 0.6311842347798032)\n",
      "Closeness Last\t(132.28763, 208.062, 0.20889542323962526)\n",
      "Historical Avg\t(399.7727, 516.35205, 1.047419830074578)\n",
      "WARNING:tensorflow:From /4TBSSD/miniconda3/envs/TF/lib/python3.7/site-packages/tensorflow_core/python/ops/resource_variable_ops.py:1630: calling BaseResourceVariable.__init__ (from tensorflow.python.ops.resource_variable_ops) with constraint is deprecated and will be removed in a future version.\n",
      "Instructions for updating:\n",
      "If using Keras pass *_constraint arguments to layers.\n",
      "SE <dtype: 'float32'> TE <dtype: 'int32'>\n",
      "SE <dtype: 'float32'> TE <dtype: 'int32'>\n",
      "SE <dtype: 'float32'> TE <dtype: 'int32'>\n"
     ]
    },
    {
     "name": "stderr",
     "output_type": "stream",
     "text": [
      "2022-09-29 14:17:50.577298: I tensorflow/stream_executor/platform/default/dso_loader.cc:44] Successfully opened dynamic library libcuda.so.1\n",
      "2022-09-29 14:17:50.701216: I tensorflow/core/common_runtime/gpu/gpu_device.cc:1618] Found device 0 with properties: \n",
      "name: NVIDIA GeForce GTX 1080 Ti major: 6 minor: 1 memoryClockRate(GHz): 1.582\n",
      "pciBusID: 0000:04:00.0\n",
      "2022-09-29 14:17:50.701639: I tensorflow/stream_executor/platform/default/dso_loader.cc:44] Successfully opened dynamic library libcudart.so.10.0\n",
      "2022-09-29 14:17:50.703237: I tensorflow/stream_executor/platform/default/dso_loader.cc:44] Successfully opened dynamic library libcublas.so.10.0\n",
      "2022-09-29 14:17:50.704601: I tensorflow/stream_executor/platform/default/dso_loader.cc:44] Successfully opened dynamic library libcufft.so.10.0\n",
      "2022-09-29 14:17:50.704974: I tensorflow/stream_executor/platform/default/dso_loader.cc:44] Successfully opened dynamic library libcurand.so.10.0\n",
      "2022-09-29 14:17:50.706840: I tensorflow/stream_executor/platform/default/dso_loader.cc:44] Successfully opened dynamic library libcusolver.so.10.0\n",
      "2022-09-29 14:17:50.708217: I tensorflow/stream_executor/platform/default/dso_loader.cc:44] Successfully opened dynamic library libcusparse.so.10.0\n",
      "2022-09-29 14:17:50.712632: I tensorflow/stream_executor/platform/default/dso_loader.cc:44] Successfully opened dynamic library libcudnn.so.7\n",
      "2022-09-29 14:17:50.719444: I tensorflow/core/common_runtime/gpu/gpu_device.cc:1746] Adding visible gpu devices: 0\n",
      "2022-09-29 14:17:50.721492: I tensorflow/core/platform/cpu_feature_guard.cc:142] Your CPU supports instructions that this TensorFlow binary was not compiled to use: AVX2 FMA\n",
      "2022-09-29 14:17:50.740614: I tensorflow/core/platform/profile_utils/cpu_utils.cc:94] CPU Frequency: 2200030000 Hz\n",
      "2022-09-29 14:17:50.743664: I tensorflow/compiler/xla/service/service.cc:168] XLA service 0x556487abc340 initialized for platform Host (this does not guarantee that XLA will be used). Devices:\n",
      "2022-09-29 14:17:50.743733: I tensorflow/compiler/xla/service/service.cc:176]   StreamExecutor device (0): Host, Default Version\n",
      "2022-09-29 14:17:50.975707: I tensorflow/compiler/xla/service/service.cc:168] XLA service 0x556486921300 initialized for platform CUDA (this does not guarantee that XLA will be used). Devices:\n",
      "2022-09-29 14:17:50.975774: I tensorflow/compiler/xla/service/service.cc:176]   StreamExecutor device (0): NVIDIA GeForce GTX 1080 Ti, Compute Capability 6.1\n",
      "2022-09-29 14:17:50.980172: I tensorflow/core/common_runtime/gpu/gpu_device.cc:1618] Found device 0 with properties: \n",
      "name: NVIDIA GeForce GTX 1080 Ti major: 6 minor: 1 memoryClockRate(GHz): 1.582\n",
      "pciBusID: 0000:04:00.0\n",
      "2022-09-29 14:17:50.980326: I tensorflow/stream_executor/platform/default/dso_loader.cc:44] Successfully opened dynamic library libcudart.so.10.0\n",
      "2022-09-29 14:17:50.980390: I tensorflow/stream_executor/platform/default/dso_loader.cc:44] Successfully opened dynamic library libcublas.so.10.0\n",
      "2022-09-29 14:17:50.980452: I tensorflow/stream_executor/platform/default/dso_loader.cc:44] Successfully opened dynamic library libcufft.so.10.0\n",
      "2022-09-29 14:17:50.980507: I tensorflow/stream_executor/platform/default/dso_loader.cc:44] Successfully opened dynamic library libcurand.so.10.0\n",
      "2022-09-29 14:17:50.980561: I tensorflow/stream_executor/platform/default/dso_loader.cc:44] Successfully opened dynamic library libcusolver.so.10.0\n",
      "2022-09-29 14:17:50.980615: I tensorflow/stream_executor/platform/default/dso_loader.cc:44] Successfully opened dynamic library libcusparse.so.10.0\n",
      "2022-09-29 14:17:50.980670: I tensorflow/stream_executor/platform/default/dso_loader.cc:44] Successfully opened dynamic library libcudnn.so.7\n",
      "2022-09-29 14:17:50.988724: I tensorflow/core/common_runtime/gpu/gpu_device.cc:1746] Adding visible gpu devices: 0\n",
      "2022-09-29 14:17:50.988839: I tensorflow/stream_executor/platform/default/dso_loader.cc:44] Successfully opened dynamic library libcudart.so.10.0\n",
      "2022-09-29 14:17:50.993848: I tensorflow/core/common_runtime/gpu/gpu_device.cc:1159] Device interconnect StreamExecutor with strength 1 edge matrix:\n",
      "2022-09-29 14:17:50.993872: I tensorflow/core/common_runtime/gpu/gpu_device.cc:1165]      0 \n",
      "2022-09-29 14:17:50.993888: I tensorflow/core/common_runtime/gpu/gpu_device.cc:1178] 0:   N \n",
      "2022-09-29 14:17:50.999797: I tensorflow/core/common_runtime/gpu/gpu_device.cc:1304] Created TensorFlow device (/job:localhost/replica:0/task:0/device:GPU:0 with 10489 MB memory) -> physical GPU (device: 0, name: NVIDIA GeForce GTX 1080 Ti, pci bus id: 0000:04:00.0, compute capability: 6.1)\n"
     ]
    },
    {
     "name": "stdout",
     "output_type": "stream",
     "text": [
      "SE <dtype: 'float32'> TE <dtype: 'int32'>\n",
      "SE <dtype: 'float32'> TE <dtype: 'int32'>\n",
      "SE <dtype: 'float32'> TE <dtype: 'int32'>\n"
     ]
    },
    {
     "name": "stderr",
     "output_type": "stream",
     "text": [
      "2022-09-29 14:17:55.343008: I tensorflow/stream_executor/platform/default/dso_loader.cc:44] Successfully opened dynamic library libcublas.so.10.0\n",
      "2022-09-29 14:17:55.547223: I tensorflow/stream_executor/platform/default/dso_loader.cc:44] Successfully opened dynamic library libcudnn.so.7\n"
     ]
    },
    {
     "name": "stdout",
     "output_type": "stream",
     "text": [
      "MyDCGRUSTE0ZCFBU\t(52.792538, 95.83111, 0.08121004556779304)\n"
     ]
    }
   ],
   "source": [
    "args.test_name = args.memo + args.model_name\n",
    "\n",
    "args.model_checkpoint_dir = f'checkpoint/'\n",
    "args.model_checkpoint = os.path.join(args.model_checkpoint_dir, args.test_name)\n",
    "args.test_dir = f'test_exp/'\n",
    "\n",
    "if not os.path.isdir(args.model_checkpoint_dir):\n",
    "    os.makedirs(args.model_checkpoint_dir)\n",
    "if not os.path.isdir(args.test_dir):\n",
    "    os.makedirs(args.test_dir)\n",
    "\n",
    "\n",
    "(trainX, trainZC, trainZF, trainTE, trainY, \n",
    "            valX, valZC, valZF, valTE, valY, \n",
    "            testX, testZC, testZF, testTE, testY, extdata) = utils.loadVolumeData2(args)\n",
    "\n",
    "print(trainX.shape, trainZC.shape, trainZF.shape, trainTE.shape, trainY.shape)\n",
    "print(valX.shape, valZC.shape, valZF.shape, valTE.shape, valY.shape)\n",
    "print(testX.shape, testZC.shape, testZF.shape, testTE.shape, testY.shape)\n",
    "\n",
    "# import sys; sys.exit(0)\n",
    "\n",
    "#####################################\n",
    "\n",
    "pred = np.tile(np.expand_dims(testX.mean(axis=1) * extdata['maxval'], 1), [1, args.Q, 1])\n",
    "label = testY\n",
    "print('Closeness Mean', utils.metric(pred, label), sep='\\t')\n",
    "\n",
    "pred = np.tile(testX[:, -1:, :] * extdata['maxval'], [1, args.Q, 1])\n",
    "label = testY\n",
    "print('Closeness Last', utils.metric(pred, label), sep='\\t')\n",
    "\n",
    "pred = trainY.mean(0)[np.newaxis, :, :]\n",
    "label = testY\n",
    "print('Historical Avg', utils.metric(pred, label), sep='\\t')\n",
    "\n",
    "#####################################\n",
    "\n",
    "def model_define():\n",
    "    X = layers.Input(shape=trainX.shape[1:], dtype=tf.float32)\n",
    "    ZC = layers.Input(shape=trainZC.shape[1:], dtype=tf.float32)\n",
    "    ZF = layers.Input(shape=trainZF.shape[1:], dtype=tf.float32)\n",
    "    TE = layers.Input(shape=trainTE.shape[1:], dtype=tf.int32) # int32\n",
    "\n",
    "    Y = mymodels.ModelSet(model_name=args.model_name, extdata=extdata, args=args, X=X, ZC=ZC, ZF=ZF, TE=TE)\n",
    "    model = keras.models.Model((X, ZC, ZF, TE), Y)\n",
    "    return model\n",
    "\n",
    "model = model_define()\n",
    "# model.summary()\n",
    "# optimizer = keras.optimizers.Adam(lr=args.learning_rate)\n",
    "\n",
    "def custom_mape_loss(label, pred):\n",
    "    mask = tf.not_equal(label, 0)\n",
    "    mask = tf.cast(mask, tf.float32)\n",
    "    mask /= tf.reduce_mean(mask)\n",
    "    mask = tf.compat.v2.where(\n",
    "        condition = tf.math.is_nan(mask), x = 0., y = mask)\n",
    "    # loss = tf.abs(tf.subtract(pred, label))\n",
    "    loss = 100 * abs((pred - label) / (label+1e-3))\n",
    "    loss *= mask\n",
    "    loss = tf.compat.v2.where(\n",
    "        condition = tf.math.is_nan(loss), x = 0., y = loss)\n",
    "    loss = tf.reduce_mean(loss)\n",
    "    return loss\n",
    "\n",
    "# model.compile(loss=custom_mape_loss, optimizer=optimizer)\n",
    "\n",
    "# Define some callbacks to improve training.\n",
    "# early_stopping = keras.callbacks.EarlyStopping(monitor=\"val_loss\", patience=args.patience)\n",
    "# reduce_lr = keras.callbacks.ReduceLROnPlateau(monitor=\"val_loss\", factor=0.2, patience=args.decay_epoch)\n",
    "# model_ckpt = tf.keras.callbacks.ModelCheckpoint(args.model_checkpoint, save_weights_only=True, save_best_only=True, monitor='val_loss', mode='min', verbose=0)\n",
    "\n",
    "\n",
    "# model.fit(\n",
    "#     (trainX, trainZC, trainZF, trainTE), trainY,\n",
    "#     batch_size=args.batch_size,\n",
    "#     epochs=args.max_epoch,\n",
    "#     validation_data=((valX, valZC, valZF, valTE), valY),\n",
    "#     callbacks=[early_stopping, reduce_lr, model_ckpt],\n",
    "# )\n",
    "\n",
    "model = model_define()\n",
    "model.load_weights(args.model_checkpoint)\n",
    "\n",
    "pred = model.predict((testX, testZC, testZF, testTE))\n",
    "label = testY\n",
    "print(f'{args.model_name}', utils.metric(pred, label), sep='\\t')\n",
    "\n",
    "\n",
    "# np.save(f'{args.test_dir}/label.npy', label)\n",
    "# np.save(f'{args.test_dir}/pred_{args.test_name}.npy', pred)\n"
   ]
  },
  {
   "cell_type": "code",
   "execution_count": 6,
   "id": "519af9ae",
   "metadata": {},
   "outputs": [],
   "source": [
    "traf_df = pd.read_hdf('../prepdata/traffic-volume-A-20180101-20190101.df')\n",
    "warns = np.isnan(traf_df.iloc[24*59:24*151]).sum(0) > 900"
   ]
  },
  {
   "cell_type": "code",
   "execution_count": 7,
   "id": "3c1eea62",
   "metadata": {},
   "outputs": [
    {
     "name": "stdout",
     "output_type": "stream",
     "text": [
      "MyDCGRUSTE0ZCFBU\t(50.623768, 93.11515, 0.07989559268620627)\n"
     ]
    }
   ],
   "source": [
    "print(f'{args.model_name}', utils.metric(pred[..., ~warns], label[..., ~warns]), sep='\\t')"
   ]
  },
  {
   "cell_type": "code",
   "execution_count": 8,
   "id": "dff7af42",
   "metadata": {},
   "outputs": [],
   "source": [
    "import matplotlib.pyplot as plt"
   ]
  },
  {
   "cell_type": "code",
   "execution_count": 9,
   "id": "018bd557",
   "metadata": {},
   "outputs": [
    {
     "name": "stdout",
     "output_type": "stream",
     "text": [
      "WARNING:tensorflow:From /tmp/ipykernel_25784/2597461789.py:1: The name tf.global_variables_initializer is deprecated. Please use tf.compat.v1.global_variables_initializer instead.\n",
      "\n",
      "WARNING:tensorflow:From /tmp/ipykernel_25784/2597461789.py:2: The name tf.Session is deprecated. Please use tf.compat.v1.Session instead.\n",
      "\n"
     ]
    },
    {
     "name": "stderr",
     "output_type": "stream",
     "text": [
      "2022-09-29 14:17:58.374509: I tensorflow/core/common_runtime/gpu/gpu_device.cc:1618] Found device 0 with properties: \n",
      "name: NVIDIA GeForce GTX 1080 Ti major: 6 minor: 1 memoryClockRate(GHz): 1.582\n",
      "pciBusID: 0000:04:00.0\n",
      "2022-09-29 14:17:58.374639: I tensorflow/stream_executor/platform/default/dso_loader.cc:44] Successfully opened dynamic library libcudart.so.10.0\n",
      "2022-09-29 14:17:58.374718: I tensorflow/stream_executor/platform/default/dso_loader.cc:44] Successfully opened dynamic library libcublas.so.10.0\n",
      "2022-09-29 14:17:58.374767: I tensorflow/stream_executor/platform/default/dso_loader.cc:44] Successfully opened dynamic library libcufft.so.10.0\n",
      "2022-09-29 14:17:58.374803: I tensorflow/stream_executor/platform/default/dso_loader.cc:44] Successfully opened dynamic library libcurand.so.10.0\n",
      "2022-09-29 14:17:58.374838: I tensorflow/stream_executor/platform/default/dso_loader.cc:44] Successfully opened dynamic library libcusolver.so.10.0\n",
      "2022-09-29 14:17:58.374872: I tensorflow/stream_executor/platform/default/dso_loader.cc:44] Successfully opened dynamic library libcusparse.so.10.0\n",
      "2022-09-29 14:17:58.374908: I tensorflow/stream_executor/platform/default/dso_loader.cc:44] Successfully opened dynamic library libcudnn.so.7\n",
      "2022-09-29 14:17:58.379679: I tensorflow/core/common_runtime/gpu/gpu_device.cc:1746] Adding visible gpu devices: 0\n",
      "2022-09-29 14:17:58.379738: I tensorflow/core/common_runtime/gpu/gpu_device.cc:1159] Device interconnect StreamExecutor with strength 1 edge matrix:\n",
      "2022-09-29 14:17:58.379748: I tensorflow/core/common_runtime/gpu/gpu_device.cc:1165]      0 \n",
      "2022-09-29 14:17:58.379756: I tensorflow/core/common_runtime/gpu/gpu_device.cc:1178] 0:   N \n",
      "2022-09-29 14:17:58.387433: I tensorflow/core/common_runtime/gpu/gpu_device.cc:1304] Created TensorFlow device (/job:localhost/replica:0/task:0/device:GPU:0 with 10489 MB memory) -> physical GPU (device: 0, name: NVIDIA GeForce GTX 1080 Ti, pci bus id: 0000:04:00.0, compute capability: 6.1)\n"
     ]
    }
   ],
   "source": [
    "init = tf.global_variables_initializer()\n",
    "sess = tf.Session()\n",
    "sess.run(init)\n",
    "# W1 = model.layers[4].FC_ZC_trans.weights[0]\n",
    "# array = W1.eval(sess)\n",
    "# array = array.reshape(extdata['CH']-2, extdata['CW']-2, 48)"
   ]
  },
  {
   "cell_type": "code",
   "execution_count": 15,
   "id": "9bad61d1",
   "metadata": {},
   "outputs": [
    {
     "data": {
      "text/plain": [
       "<tf.Variable 'my_dcgrust_e0zcfbu_1/conv_lst_m2d_6/kernel:0' shape=(3, 3, 64, 256) dtype=float32>"
      ]
     },
     "execution_count": 15,
     "metadata": {},
     "output_type": "execute_result"
    }
   ],
   "source": []
  },
  {
   "cell_type": "code",
   "execution_count": 16,
   "id": "0f416634",
   "metadata": {},
   "outputs": [
    {
     "name": "stderr",
     "output_type": "stream",
     "text": [
      "2022-09-29 14:19:55.159627: I tensorflow/core/common_runtime/gpu/gpu_device.cc:1618] Found device 0 with properties: \n",
      "name: NVIDIA GeForce GTX 1080 Ti major: 6 minor: 1 memoryClockRate(GHz): 1.582\n",
      "pciBusID: 0000:04:00.0\n",
      "2022-09-29 14:19:55.159833: I tensorflow/stream_executor/platform/default/dso_loader.cc:44] Successfully opened dynamic library libcudart.so.10.0\n",
      "2022-09-29 14:19:55.159904: I tensorflow/stream_executor/platform/default/dso_loader.cc:44] Successfully opened dynamic library libcublas.so.10.0\n",
      "2022-09-29 14:19:55.159951: I tensorflow/stream_executor/platform/default/dso_loader.cc:44] Successfully opened dynamic library libcufft.so.10.0\n",
      "2022-09-29 14:19:55.159990: I tensorflow/stream_executor/platform/default/dso_loader.cc:44] Successfully opened dynamic library libcurand.so.10.0\n",
      "2022-09-29 14:19:55.160029: I tensorflow/stream_executor/platform/default/dso_loader.cc:44] Successfully opened dynamic library libcusolver.so.10.0\n",
      "2022-09-29 14:19:55.160067: I tensorflow/stream_executor/platform/default/dso_loader.cc:44] Successfully opened dynamic library libcusparse.so.10.0\n",
      "2022-09-29 14:19:55.160106: I tensorflow/stream_executor/platform/default/dso_loader.cc:44] Successfully opened dynamic library libcudnn.so.7\n",
      "2022-09-29 14:19:55.165630: I tensorflow/core/common_runtime/gpu/gpu_device.cc:1746] Adding visible gpu devices: 0\n",
      "2022-09-29 14:19:55.165691: I tensorflow/core/common_runtime/gpu/gpu_device.cc:1159] Device interconnect StreamExecutor with strength 1 edge matrix:\n",
      "2022-09-29 14:19:55.165701: I tensorflow/core/common_runtime/gpu/gpu_device.cc:1165]      0 \n",
      "2022-09-29 14:19:55.165708: I tensorflow/core/common_runtime/gpu/gpu_device.cc:1178] 0:   N \n",
      "2022-09-29 14:19:55.171255: I tensorflow/core/common_runtime/gpu/gpu_device.cc:1304] Created TensorFlow device (/job:localhost/replica:0/task:0/device:GPU:0 with 10489 MB memory) -> physical GPU (device: 0, name: NVIDIA GeForce GTX 1080 Ti, pci bus id: 0000:04:00.0, compute capability: 6.1)\n"
     ]
    }
   ],
   "source": [
    "init = tf.global_variables_initializer()\n",
    "sess = tf.Session()\n",
    "sess.run(init)\n",
    "W1 = model.layers[4].FC_ZF_ConvLSTM.weights[0]\n",
    "array = W1.eval(sess)"
   ]
  },
  {
   "cell_type": "code",
   "execution_count": 40,
   "id": "cae230a8",
   "metadata": {},
   "outputs": [
    {
     "data": {
      "text/plain": [
       "<matplotlib.colorbar.Colorbar at 0x7f71e0323990>"
      ]
     },
     "execution_count": 40,
     "metadata": {},
     "output_type": "execute_result"
    },
    {
     "data": {
      "image/png": "[encoded data removed]",
      "text/plain": [
       "<Figure size 288x288 with 2 Axes>"
      ]
     },
     "metadata": {
      "needs_background": "light"
     },
     "output_type": "display_data"
    }
   ],
   "source": [
    "plt.matshow(array[:, :, 8, 16])\n",
    "plt.colorbar()"
   ]
  },
  {
   "cell_type": "code",
   "execution_count": 9,
   "id": "dde77235",
   "metadata": {},
   "outputs": [
    {
     "name": "stderr",
     "output_type": "stream",
     "text": [
      "2022-09-28 13:28:26.401025: I tensorflow/core/common_runtime/gpu/gpu_device.cc:1618] Found device 0 with properties: \n",
      "name: NVIDIA GeForce GTX 1080 Ti major: 6 minor: 1 memoryClockRate(GHz): 1.582\n",
      "pciBusID: 0000:04:00.0\n",
      "2022-09-28 13:28:26.401195: I tensorflow/stream_executor/platform/default/dso_loader.cc:44] Successfully opened dynamic library libcudart.so.10.0\n",
      "2022-09-28 13:28:26.401262: I tensorflow/stream_executor/platform/default/dso_loader.cc:44] Successfully opened dynamic library libcublas.so.10.0\n",
      "2022-09-28 13:28:26.401316: I tensorflow/stream_executor/platform/default/dso_loader.cc:44] Successfully opened dynamic library libcufft.so.10.0\n",
      "2022-09-28 13:28:26.401388: I tensorflow/stream_executor/platform/default/dso_loader.cc:44] Successfully opened dynamic library libcurand.so.10.0\n",
      "2022-09-28 13:28:26.401443: I tensorflow/stream_executor/platform/default/dso_loader.cc:44] Successfully opened dynamic library libcusolver.so.10.0\n",
      "2022-09-28 13:28:26.401495: I tensorflow/stream_executor/platform/default/dso_loader.cc:44] Successfully opened dynamic library libcusparse.so.10.0\n",
      "2022-09-28 13:28:26.401549: I tensorflow/stream_executor/platform/default/dso_loader.cc:44] Successfully opened dynamic library libcudnn.so.7\n",
      "2022-09-28 13:28:26.406324: I tensorflow/core/common_runtime/gpu/gpu_device.cc:1746] Adding visible gpu devices: 0\n",
      "2022-09-28 13:28:26.406449: I tensorflow/core/common_runtime/gpu/gpu_device.cc:1159] Device interconnect StreamExecutor with strength 1 edge matrix:\n",
      "2022-09-28 13:28:26.406471: I tensorflow/core/common_runtime/gpu/gpu_device.cc:1165]      0 \n",
      "2022-09-28 13:28:26.406487: I tensorflow/core/common_runtime/gpu/gpu_device.cc:1178] 0:   N \n",
      "2022-09-28 13:28:26.412049: I tensorflow/core/common_runtime/gpu/gpu_device.cc:1304] Created TensorFlow device (/job:localhost/replica:0/task:0/device:GPU:0 with 10489 MB memory) -> physical GPU (device: 0, name: NVIDIA GeForce GTX 1080 Ti, pci bus id: 0000:04:00.0, compute capability: 6.1)\n"
     ]
    }
   ],
   "source": [
    "init = tf.global_variables_initializer()\n",
    "sess = tf.Session()\n",
    "sess.run(init)\n",
    "W1 = model.layers[4].FC_ZC_trans.weights[0]\n",
    "array = W1.eval(sess)\n",
    "array = array.reshape(extdata['CH']-2, extdata['CW']-2, 48)"
   ]
  },
  {
   "cell_type": "code",
   "execution_count": 10,
   "id": "e7c4dee6",
   "metadata": {},
   "outputs": [],
   "source": [
    "from ipywidgets import *"
   ]
  },
  {
   "cell_type": "code",
   "execution_count": 11,
   "id": "5ad7ef69",
   "metadata": {},
   "outputs": [
    {
     "data": {
      "application/vnd.jupyter.widget-view+json": {
       "model_id": "18a4eae8a02d4b12a8d3f65589e5ba11",
       "version_major": 2,
       "version_minor": 0
      },
      "text/plain": [
       "interactive(children=(IntSlider(value=23, description='i', max=47), Output()), _dom_classes=('widget-interact'…"
      ]
     },
     "metadata": {},
     "output_type": "display_data"
    },
    {
     "data": {
      "text/plain": [
       "<function __main__.f(i)>"
      ]
     },
     "execution_count": 11,
     "metadata": {},
     "output_type": "execute_result"
    }
   ],
   "source": [
    "def f(i):\n",
    "    plt.matshow(array[..., i])\n",
    "    plt.colorbar()\n",
    "    plt.show()\n",
    "    plt.matshow(array.mean(-1))\n",
    "    plt.colorbar()\n",
    "    plt.show()\n",
    "\n",
    "\n",
    "interact(f, i=(0, array.shape[-1]-1))    "
   ]
  },
  {
   "cell_type": "code",
   "execution_count": null,
   "id": "92016d95",
   "metadata": {},
   "outputs": [],
   "source": []
  },
  {
   "cell_type": "code",
   "execution_count": null,
   "id": "40591582",
   "metadata": {},
   "outputs": [],
   "source": []
  },
  {
   "cell_type": "code",
   "execution_count": null,
   "id": "9a6d7896",
   "metadata": {},
   "outputs": [],
   "source": []
  },
  {
   "cell_type": "code",
   "execution_count": null,
   "id": "440c5849",
   "metadata": {},
   "outputs": [],
   "source": []
  }
 ],
 "metadata": {
  "kernelspec": {
   "display_name": "TF",
   "language": "python",
   "name": "tf"
  },
  "language_info": {
   "codemirror_mode": {
    "name": "ipython",
    "version": 3
   },
   "file_extension": ".py",
   "mimetype": "text/x-python",
   "name": "python",
   "nbconvert_exporter": "python",
   "pygments_lexer": "ipython3",
   "version": "3.7.10"
  }
 },
 "nbformat": 4,
 "nbformat_minor": 5
}
