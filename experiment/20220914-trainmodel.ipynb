{
 "cells": [
  {
   "cell_type": "code",
   "execution_count": 1,
   "id": "02e4c10b",
   "metadata": {},
   "outputs": [],
   "source": [
    "import os\n",
    "os.environ[\"CUDA_DEVICE_ORDER\"]=\"PCI_BUS_ID\"   # see issue #152\n",
    "os.environ[\"CUDA_VISIBLE_DEVICES\"]=\"0\""
   ]
  },
  {
   "cell_type": "code",
   "execution_count": 2,
   "id": "22d5ffc0",
   "metadata": {},
   "outputs": [
    {
     "name": "stderr",
     "output_type": "stream",
     "text": [
      "2022-10-04 21:23:40.467112: I tensorflow/stream_executor/platform/default/dso_loader.cc:53] Successfully opened dynamic library libcudart.so.11.0\n"
     ]
    }
   ],
   "source": [
    "import os, datetime, argparse, tqdm, pickle\n",
    "import numpy as np\n",
    "import pandas as pd\n",
    "import geopandas as gpd\n",
    "import matplotlib.pyplot as plt\n",
    "import utils\n",
    "import mymodels\n",
    "import pickle\n",
    "import tensorflow as tf\n",
    "from tensorflow import keras\n",
    "from tensorflow.keras import layers\n",
    "\n",
    "\n",
    "from os.path import join as pjoin\n",
    "\n",
    "def str2bool(v): \n",
    "    if isinstance(v, bool): \n",
    "        return v \n",
    "    if v.lower() in ('yes', 'true', 't', 'y', '1'): \n",
    "        return True \n",
    "    elif v.lower() in ('no', 'false', 'f', 'n', '0'): \n",
    "        return False \n",
    "    else: raise argparse.ArgumentTypeError('Boolean value expected.')\n"
   ]
  },
  {
   "cell_type": "code",
   "execution_count": 3,
   "id": "f4737f03",
   "metadata": {},
   "outputs": [],
   "source": [
    "parser = argparse.ArgumentParser()\n",
    "parser.add_argument('--file_traf', type = str, default = '../prepdata/traffic-volume-A-20180101-20190101.df')\n",
    "parser.add_argument('--file_coarse', type = str, default = '../prepdata/coarse_grained_lte.h5')\n",
    "parser.add_argument('--file_fine', type = str, default = '../prepdata/fine_grained_lte.h5')\n",
    "parser.add_argument('--patch_size', type = int, default = 4)\n",
    "parser.add_argument('--model_name', type = str, default = 'MyASTGCN')\n",
    "parser.add_argument('--memo', type = str, default = '')\n",
    "\n",
    "parser.add_argument('--train_ratio', type = float, default = 0.7,\n",
    "                    help = 'training set [default : 0.7]')\n",
    "parser.add_argument('--val_ratio', type = float, default = 0.1,\n",
    "                    help = 'validation set [default : 0.1]')\n",
    "parser.add_argument('--test_ratio', type = float, default = 0.2,\n",
    "                    help = 'testing set [default : 0.2]')\n",
    "parser.add_argument('--cnn_size', type = int, default = 3)\n",
    "parser.add_argument('--P', type = int, default = 6)\n",
    "parser.add_argument('--Q', type = int, default = 1)\n",
    "parser.add_argument('--time_slot', type = int, default = 60, \n",
    "                    help = 'a time step is 60 mins')\n",
    "\n",
    "parser.add_argument('--L', type = int, default = 1,\n",
    "                    help = 'number of STAtt Blocks')\n",
    "# parser.add_argument('--LZ', type = int, default = 2,\n",
    "#                     help = 'number of Regional STAtt Blocks')\n",
    "parser.add_argument('--K', type = int, default = 8,\n",
    "                    help = 'number of attention heads')\n",
    "parser.add_argument('--d', type = int, default = 8,\n",
    "                    help = 'dims of each head attention outputs')\n",
    "parser.add_argument('--D', type = int, default = 64)\n",
    "parser.add_argument('--batch_size', type = int, default = 32,\n",
    "                    help = 'batch size')\n",
    "parser.add_argument('--max_epoch', type = int, default = 1000,\n",
    "                    help = 'epoch to run')\n",
    "parser.add_argument('--patience', type = int, default = 10,\n",
    "                    help = 'patience for early stop')\n",
    "parser.add_argument('--learning_rate', type=float, default = 0.001,\n",
    "                    help = 'initial learning rate')\n",
    "parser.add_argument('--decay_epoch', type=int, default = 5,\n",
    "                    help = 'decay epoch')\n",
    "\n",
    "parser.add_argument('--save_dir', default = 'test',\n",
    "                    help = 'save_dir')\n",
    "\n",
    "args = parser.parse_args([])"
   ]
  },
  {
   "cell_type": "code",
   "execution_count": 4,
   "id": "d7d638b8",
   "metadata": {},
   "outputs": [
    {
     "name": "stdout",
     "output_type": "stream",
     "text": [
      "(2208, 1178) (2208, 1178)\n",
      "(1540, 6, 48) (1540, 6, 31, 38, 2) (1540, 6, 30, 33, 2) (1540, 7, 2) (1540, 1, 48)\n",
      "(214, 6, 48) (214, 6, 31, 38, 2) (214, 6, 30, 33, 2) (214, 7, 2) (214, 1, 48)\n",
      "(436, 6, 48) (436, 6, 31, 38, 2) (436, 6, 30, 33, 2) (436, 7, 2) (436, 1, 48)\n",
      "Closeness Mean\t(315.33313, 437.94702, 0.6311842347798032)\n",
      "Closeness Last\t(132.28763, 208.062, 0.20889542323962526)\n",
      "Historical Avg\t(399.7727, 516.35205, 1.047419830074578)\n"
     ]
    },
    {
     "name": "stderr",
     "output_type": "stream",
     "text": [
      "2022-10-04 21:23:43.200090: I tensorflow/stream_executor/platform/default/dso_loader.cc:53] Successfully opened dynamic library libcuda.so.1\n",
      "2022-10-04 21:23:43.269068: I tensorflow/core/common_runtime/gpu/gpu_device.cc:1733] Found device 0 with properties: \n",
      "pciBusID: 0000:18:00.0 name: NVIDIA GeForce RTX 3090 computeCapability: 8.6\n",
      "coreClock: 1.695GHz coreCount: 82 deviceMemorySize: 23.70GiB deviceMemoryBandwidth: 871.81GiB/s\n",
      "2022-10-04 21:23:43.269137: I tensorflow/stream_executor/platform/default/dso_loader.cc:53] Successfully opened dynamic library libcudart.so.11.0\n",
      "2022-10-04 21:23:43.273289: I tensorflow/stream_executor/platform/default/dso_loader.cc:53] Successfully opened dynamic library libcublas.so.11\n",
      "2022-10-04 21:23:43.273389: I tensorflow/stream_executor/platform/default/dso_loader.cc:53] Successfully opened dynamic library libcublasLt.so.11\n",
      "2022-10-04 21:23:43.275851: I tensorflow/stream_executor/platform/default/dso_loader.cc:53] Successfully opened dynamic library libcufft.so.10\n",
      "2022-10-04 21:23:43.276229: I tensorflow/stream_executor/platform/default/dso_loader.cc:53] Successfully opened dynamic library libcurand.so.10\n",
      "2022-10-04 21:23:43.276830: I tensorflow/stream_executor/platform/default/dso_loader.cc:53] Successfully opened dynamic library libcusolver.so.11\n",
      "2022-10-04 21:23:43.277674: I tensorflow/stream_executor/platform/default/dso_loader.cc:53] Successfully opened dynamic library libcusparse.so.11\n",
      "2022-10-04 21:23:43.277889: I tensorflow/stream_executor/platform/default/dso_loader.cc:53] Successfully opened dynamic library libcudnn.so.8\n",
      "2022-10-04 21:23:43.280268: I tensorflow/core/common_runtime/gpu/gpu_device.cc:1871] Adding visible gpu devices: 0\n",
      "2022-10-04 21:23:43.280714: I tensorflow/core/platform/cpu_feature_guard.cc:142] This TensorFlow binary is optimized with oneAPI Deep Neural Network Library (oneDNN) to use the following CPU instructions in performance-critical operations:  AVX2 AVX512F FMA\n",
      "To enable them in other operations, rebuild TensorFlow with the appropriate compiler flags.\n",
      "2022-10-04 21:23:43.284384: I tensorflow/core/common_runtime/gpu/gpu_device.cc:1733] Found device 0 with properties: \n",
      "pciBusID: 0000:18:00.0 name: NVIDIA GeForce RTX 3090 computeCapability: 8.6\n",
      "coreClock: 1.695GHz coreCount: 82 deviceMemorySize: 23.70GiB deviceMemoryBandwidth: 871.81GiB/s\n",
      "2022-10-04 21:23:43.286651: I tensorflow/core/common_runtime/gpu/gpu_device.cc:1871] Adding visible gpu devices: 0\n",
      "2022-10-04 21:23:43.286712: I tensorflow/stream_executor/platform/default/dso_loader.cc:53] Successfully opened dynamic library libcudart.so.11.0\n",
      "2022-10-04 21:23:43.842490: I tensorflow/core/common_runtime/gpu/gpu_device.cc:1258] Device interconnect StreamExecutor with strength 1 edge matrix:\n",
      "2022-10-04 21:23:43.842529: I tensorflow/core/common_runtime/gpu/gpu_device.cc:1264]      0 \n",
      "2022-10-04 21:23:43.842536: I tensorflow/core/common_runtime/gpu/gpu_device.cc:1277] 0:   N \n",
      "2022-10-04 21:23:43.845605: I tensorflow/core/common_runtime/gpu/gpu_device.cc:1418] Created TensorFlow device (/job:localhost/replica:0/task:0/device:GPU:0 with 22312 MB memory) -> physical GPU (device: 0, name: NVIDIA GeForce RTX 3090, pci bus id: 0000:18:00.0, compute capability: 8.6)\n"
     ]
    },
    {
     "name": "stdout",
     "output_type": "stream",
     "text": [
      "ASTGCN_submodule (None, 48, 1, 6)\n",
      "ASTGCN: (None, 48, 1, 6)\n",
      "(None, 6, 1, 48) (48, 1) (1, 48)\n",
      "rhs =  (1, 1) (None, 48, 1, 6)\n",
      "lhs, rhs (None, 6, 48) (None, 48, 6)\n",
      "rhs (1, 1) (None, 48, 1, 6)\n",
      "(None, 48, 6) (None, 6, 48)\n",
      "(None, 48, 1, 6)\n",
      "ASTGCN_submodule (None, 48, 64, 6)\n",
      "ASTGCN: (None, 48, 64, 6)\n",
      "(None, 6, 64, 48) (48, 1) (64, 48)\n",
      "rhs =  (1, 64) (None, 48, 64, 6)\n",
      "lhs, rhs (None, 6, 48) (None, 48, 6)\n",
      "rhs (1, 64) (None, 48, 64, 6)\n",
      "(None, 48, 6) (None, 6, 48)\n",
      "(None, 48, 64, 6)\n",
      "ASTGCN_submodule (None, 48, 64, 6)\n",
      "output (None, 1, 48, 1)\n",
      "ASTGCN_submodule (None, 48, 1, 6)\n",
      "ASTGCN: (None, 48, 1, 6)\n",
      "(None, 6, 1, 48) (48, 1) (1, 48)\n",
      "rhs =  (1, 1) (None, 48, 1, 6)\n",
      "lhs, rhs (None, 6, 48) (None, 48, 6)\n",
      "rhs (1, 1) (None, 48, 1, 6)\n",
      "(None, 48, 6) (None, 6, 48)\n",
      "(None, 48, 1, 6)\n",
      "ASTGCN_submodule (None, 48, 64, 6)\n",
      "ASTGCN: (None, 48, 64, 6)\n",
      "(None, 6, 64, 48) (48, 1) (64, 48)\n",
      "rhs =  (1, 64) (None, 48, 64, 6)\n",
      "lhs, rhs (None, 6, 48) (None, 48, 6)\n",
      "rhs (1, 64) (None, 48, 64, 6)\n",
      "(None, 48, 6) (None, 6, 48)\n",
      "(None, 48, 64, 6)\n",
      "ASTGCN_submodule (None, 48, 64, 6)\n",
      "output (None, 1, 48, 1)\n"
     ]
    },
    {
     "ename": "NotFoundError",
     "evalue": "Unsuccessful TensorSliceReader constructor: Failed to find any matching files for checkpoint/T0MyASTGCN",
     "output_type": "error",
     "traceback": [
      "\u001b[0;31m---------------------------------------------------------------------------\u001b[0m",
      "\u001b[0;31mRuntimeError\u001b[0m                              Traceback (most recent call last)",
      "\u001b[0;32m/data/smhan_temp/miniconda3/envs/AAAITEST/lib/python3.7/site-packages/tensorflow/python/training/py_checkpoint_reader.py\u001b[0m in \u001b[0;36mNewCheckpointReader\u001b[0;34m(filepattern)\u001b[0m\n\u001b[1;32m     94\u001b[0m   \u001b[0;32mtry\u001b[0m\u001b[0;34m:\u001b[0m\u001b[0;34m\u001b[0m\u001b[0;34m\u001b[0m\u001b[0m\n\u001b[0;32m---> 95\u001b[0;31m     \u001b[0;32mreturn\u001b[0m \u001b[0mCheckpointReader\u001b[0m\u001b[0;34m(\u001b[0m\u001b[0mcompat\u001b[0m\u001b[0;34m.\u001b[0m\u001b[0mas_bytes\u001b[0m\u001b[0;34m(\u001b[0m\u001b[0mfilepattern\u001b[0m\u001b[0;34m)\u001b[0m\u001b[0;34m)\u001b[0m\u001b[0;34m\u001b[0m\u001b[0;34m\u001b[0m\u001b[0m\n\u001b[0m\u001b[1;32m     96\u001b[0m   \u001b[0;31m# TODO(b/143319754): Remove the RuntimeError casting logic once we resolve the\u001b[0m\u001b[0;34m\u001b[0m\u001b[0;34m\u001b[0m\u001b[0;34m\u001b[0m\u001b[0m\n",
      "\u001b[0;31mRuntimeError\u001b[0m: Unsuccessful TensorSliceReader constructor: Failed to find any matching files for checkpoint/T0MyASTGCN",
      "\nDuring handling of the above exception, another exception occurred:\n",
      "\u001b[0;31mNotFoundError\u001b[0m                             Traceback (most recent call last)",
      "\u001b[0;32m/tmp/ipykernel_955604/1497550467.py\u001b[0m in \u001b[0;36m<module>\u001b[0;34m\u001b[0m\n\u001b[1;32m     82\u001b[0m \u001b[0;34m\u001b[0m\u001b[0m\n\u001b[1;32m     83\u001b[0m \u001b[0mmodel\u001b[0m \u001b[0;34m=\u001b[0m \u001b[0mmodel_define\u001b[0m\u001b[0;34m(\u001b[0m\u001b[0;34m)\u001b[0m\u001b[0;34m\u001b[0m\u001b[0;34m\u001b[0m\u001b[0m\n\u001b[0;32m---> 84\u001b[0;31m \u001b[0mmodel\u001b[0m\u001b[0;34m.\u001b[0m\u001b[0mload_weights\u001b[0m\u001b[0;34m(\u001b[0m\u001b[0margs\u001b[0m\u001b[0;34m.\u001b[0m\u001b[0mmodel_checkpoint\u001b[0m\u001b[0;34m)\u001b[0m\u001b[0;34m\u001b[0m\u001b[0;34m\u001b[0m\u001b[0m\n\u001b[0m\u001b[1;32m     85\u001b[0m \u001b[0;34m\u001b[0m\u001b[0m\n\u001b[1;32m     86\u001b[0m \u001b[0mpred\u001b[0m \u001b[0;34m=\u001b[0m \u001b[0mmodel\u001b[0m\u001b[0;34m.\u001b[0m\u001b[0mpredict\u001b[0m\u001b[0;34m(\u001b[0m\u001b[0;34m(\u001b[0m\u001b[0mtestX\u001b[0m\u001b[0;34m,\u001b[0m \u001b[0mtestZC\u001b[0m\u001b[0;34m,\u001b[0m \u001b[0mtestZF\u001b[0m\u001b[0;34m,\u001b[0m \u001b[0mtestTE\u001b[0m\u001b[0;34m)\u001b[0m\u001b[0;34m)\u001b[0m\u001b[0;34m\u001b[0m\u001b[0;34m\u001b[0m\u001b[0m\n",
      "\u001b[0;32m/data/smhan_temp/miniconda3/envs/AAAITEST/lib/python3.7/site-packages/tensorflow/python/keras/engine/training.py\u001b[0m in \u001b[0;36mload_weights\u001b[0;34m(self, filepath, by_name, skip_mismatch, options)\u001b[0m\n\u001b[1;32m   2293\u001b[0m           'True when by_name is True.')\n\u001b[1;32m   2294\u001b[0m \u001b[0;34m\u001b[0m\u001b[0m\n\u001b[0;32m-> 2295\u001b[0;31m     \u001b[0mfilepath\u001b[0m\u001b[0;34m,\u001b[0m \u001b[0msave_format\u001b[0m \u001b[0;34m=\u001b[0m \u001b[0m_detect_save_format\u001b[0m\u001b[0;34m(\u001b[0m\u001b[0mfilepath\u001b[0m\u001b[0;34m)\u001b[0m\u001b[0;34m\u001b[0m\u001b[0;34m\u001b[0m\u001b[0m\n\u001b[0m\u001b[1;32m   2296\u001b[0m     \u001b[0;32mif\u001b[0m \u001b[0msave_format\u001b[0m \u001b[0;34m==\u001b[0m \u001b[0;34m'tf'\u001b[0m\u001b[0;34m:\u001b[0m\u001b[0;34m\u001b[0m\u001b[0;34m\u001b[0m\u001b[0m\n\u001b[1;32m   2297\u001b[0m       \u001b[0mstatus\u001b[0m \u001b[0;34m=\u001b[0m \u001b[0mself\u001b[0m\u001b[0;34m.\u001b[0m\u001b[0m_trackable_saver\u001b[0m\u001b[0;34m.\u001b[0m\u001b[0mrestore\u001b[0m\u001b[0;34m(\u001b[0m\u001b[0mfilepath\u001b[0m\u001b[0;34m,\u001b[0m \u001b[0moptions\u001b[0m\u001b[0;34m)\u001b[0m\u001b[0;34m\u001b[0m\u001b[0;34m\u001b[0m\u001b[0m\n",
      "\u001b[0;32m/data/smhan_temp/miniconda3/envs/AAAITEST/lib/python3.7/site-packages/tensorflow/python/keras/engine/training.py\u001b[0m in \u001b[0;36m_detect_save_format\u001b[0;34m(filepath)\u001b[0m\n\u001b[1;32m   2916\u001b[0m   \u001b[0;31m# directory. It's possible for filepath to be both a prefix and directory.\u001b[0m\u001b[0;34m\u001b[0m\u001b[0;34m\u001b[0m\u001b[0;34m\u001b[0m\u001b[0m\n\u001b[1;32m   2917\u001b[0m   \u001b[0;31m# Prioritize checkpoint over SavedModel.\u001b[0m\u001b[0;34m\u001b[0m\u001b[0;34m\u001b[0m\u001b[0;34m\u001b[0m\u001b[0m\n\u001b[0;32m-> 2918\u001b[0;31m   \u001b[0;32mif\u001b[0m \u001b[0m_is_readable_tf_checkpoint\u001b[0m\u001b[0;34m(\u001b[0m\u001b[0mfilepath\u001b[0m\u001b[0;34m)\u001b[0m\u001b[0;34m:\u001b[0m\u001b[0;34m\u001b[0m\u001b[0;34m\u001b[0m\u001b[0m\n\u001b[0m\u001b[1;32m   2919\u001b[0m     \u001b[0msave_format\u001b[0m \u001b[0;34m=\u001b[0m \u001b[0;34m'tf'\u001b[0m\u001b[0;34m\u001b[0m\u001b[0;34m\u001b[0m\u001b[0m\n\u001b[1;32m   2920\u001b[0m   \u001b[0;32melif\u001b[0m \u001b[0msm_loader\u001b[0m\u001b[0;34m.\u001b[0m\u001b[0mcontains_saved_model\u001b[0m\u001b[0;34m(\u001b[0m\u001b[0mfilepath\u001b[0m\u001b[0;34m)\u001b[0m\u001b[0;34m:\u001b[0m\u001b[0;34m\u001b[0m\u001b[0;34m\u001b[0m\u001b[0m\n",
      "\u001b[0;32m/data/smhan_temp/miniconda3/envs/AAAITEST/lib/python3.7/site-packages/tensorflow/python/keras/engine/training.py\u001b[0m in \u001b[0;36m_is_readable_tf_checkpoint\u001b[0;34m(filepath)\u001b[0m\n\u001b[1;32m   2937\u001b[0m \u001b[0;32mdef\u001b[0m \u001b[0m_is_readable_tf_checkpoint\u001b[0m\u001b[0;34m(\u001b[0m\u001b[0mfilepath\u001b[0m\u001b[0;34m)\u001b[0m\u001b[0;34m:\u001b[0m\u001b[0;34m\u001b[0m\u001b[0;34m\u001b[0m\u001b[0m\n\u001b[1;32m   2938\u001b[0m   \u001b[0;32mtry\u001b[0m\u001b[0;34m:\u001b[0m\u001b[0;34m\u001b[0m\u001b[0;34m\u001b[0m\u001b[0m\n\u001b[0;32m-> 2939\u001b[0;31m     \u001b[0mpy_checkpoint_reader\u001b[0m\u001b[0;34m.\u001b[0m\u001b[0mNewCheckpointReader\u001b[0m\u001b[0;34m(\u001b[0m\u001b[0mfilepath\u001b[0m\u001b[0;34m)\u001b[0m\u001b[0;34m\u001b[0m\u001b[0;34m\u001b[0m\u001b[0m\n\u001b[0m\u001b[1;32m   2940\u001b[0m     \u001b[0;32mreturn\u001b[0m \u001b[0;32mTrue\u001b[0m\u001b[0;34m\u001b[0m\u001b[0;34m\u001b[0m\u001b[0m\n\u001b[1;32m   2941\u001b[0m   \u001b[0;32mexcept\u001b[0m \u001b[0merrors_impl\u001b[0m\u001b[0;34m.\u001b[0m\u001b[0mDataLossError\u001b[0m\u001b[0;34m:\u001b[0m\u001b[0;34m\u001b[0m\u001b[0;34m\u001b[0m\u001b[0m\n",
      "\u001b[0;32m/data/smhan_temp/miniconda3/envs/AAAITEST/lib/python3.7/site-packages/tensorflow/python/training/py_checkpoint_reader.py\u001b[0m in \u001b[0;36mNewCheckpointReader\u001b[0;34m(filepattern)\u001b[0m\n\u001b[1;32m     97\u001b[0m   \u001b[0;31m# issue with throwing python exceptions from C++.\u001b[0m\u001b[0;34m\u001b[0m\u001b[0;34m\u001b[0m\u001b[0;34m\u001b[0m\u001b[0m\n\u001b[1;32m     98\u001b[0m   \u001b[0;32mexcept\u001b[0m \u001b[0mRuntimeError\u001b[0m \u001b[0;32mas\u001b[0m \u001b[0me\u001b[0m\u001b[0;34m:\u001b[0m\u001b[0;34m\u001b[0m\u001b[0;34m\u001b[0m\u001b[0m\n\u001b[0;32m---> 99\u001b[0;31m     \u001b[0merror_translator\u001b[0m\u001b[0;34m(\u001b[0m\u001b[0me\u001b[0m\u001b[0;34m)\u001b[0m\u001b[0;34m\u001b[0m\u001b[0;34m\u001b[0m\u001b[0m\n\u001b[0m",
      "\u001b[0;32m/data/smhan_temp/miniconda3/envs/AAAITEST/lib/python3.7/site-packages/tensorflow/python/training/py_checkpoint_reader.py\u001b[0m in \u001b[0;36merror_translator\u001b[0;34m(e)\u001b[0m\n\u001b[1;32m     33\u001b[0m       \u001b[0;34m'Failed to find any '\u001b[0m\u001b[0;34m\u001b[0m\u001b[0;34m\u001b[0m\u001b[0m\n\u001b[1;32m     34\u001b[0m       'matching files for') in error_message:\n\u001b[0;32m---> 35\u001b[0;31m     \u001b[0;32mraise\u001b[0m \u001b[0merrors_impl\u001b[0m\u001b[0;34m.\u001b[0m\u001b[0mNotFoundError\u001b[0m\u001b[0;34m(\u001b[0m\u001b[0;32mNone\u001b[0m\u001b[0;34m,\u001b[0m \u001b[0;32mNone\u001b[0m\u001b[0;34m,\u001b[0m \u001b[0merror_message\u001b[0m\u001b[0;34m)\u001b[0m\u001b[0;34m\u001b[0m\u001b[0;34m\u001b[0m\u001b[0m\n\u001b[0m\u001b[1;32m     36\u001b[0m   elif 'Sliced checkpoints are not supported' in error_message or (\n\u001b[1;32m     37\u001b[0m       \u001b[0;34m'Data type '\u001b[0m\u001b[0;34m\u001b[0m\u001b[0;34m\u001b[0m\u001b[0m\n",
      "\u001b[0;31mNotFoundError\u001b[0m: Unsuccessful TensorSliceReader constructor: Failed to find any matching files for checkpoint/T0MyASTGCN"
     ]
    }
   ],
   "source": [
    "args.test_name = args.memo + args.model_name\n",
    "\n",
    "args.model_checkpoint_dir = f'checkpoint/'\n",
    "args.model_checkpoint = os.path.join(args.model_checkpoint_dir, args.test_name)\n",
    "args.test_dir = f'test_exp/'\n",
    "\n",
    "if not os.path.isdir(args.model_checkpoint_dir):\n",
    "    os.makedirs(args.model_checkpoint_dir)\n",
    "if not os.path.isdir(args.test_dir):\n",
    "    os.makedirs(args.test_dir)\n",
    "\n",
    "\n",
    "(trainX, trainZC, trainZF, trainTE, trainY, \n",
    "            valX, valZC, valZF, valTE, valY, \n",
    "            testX, testZC, testZF, testTE, testY, extdata) = utils.loadVolumeData3(args)\n",
    "\n",
    "print(trainX.shape, trainZC.shape, trainZF.shape, trainTE.shape, trainY.shape)\n",
    "print(valX.shape, valZC.shape, valZF.shape, valTE.shape, valY.shape)\n",
    "print(testX.shape, testZC.shape, testZF.shape, testTE.shape, testY.shape)\n",
    "\n",
    "# import sys; sys.exit(0)\n",
    "\n",
    "#####################################\n",
    "\n",
    "pred = np.tile(np.expand_dims(testX.mean(axis=1) * extdata['maxval'], 1), [1, args.Q, 1])\n",
    "label = testY\n",
    "print('Closeness Mean', utils.metric(pred, label), sep='\\t')\n",
    "\n",
    "pred = np.tile(testX[:, -1:, :] * extdata['maxval'], [1, args.Q, 1])\n",
    "label = testY\n",
    "print('Closeness Last', utils.metric(pred, label), sep='\\t')\n",
    "\n",
    "pred = trainY.mean(0)[np.newaxis, :, :]\n",
    "label = testY\n",
    "print('Historical Avg', utils.metric(pred, label), sep='\\t')\n",
    "\n",
    "#####################################\n",
    "\n",
    "def model_define():\n",
    "    X = layers.Input(shape=trainX.shape[1:], dtype=tf.float32)\n",
    "    ZC = layers.Input(shape=trainZC.shape[1:], dtype=tf.float32)\n",
    "    ZF = layers.Input(shape=trainZF.shape[1:], dtype=tf.float32)\n",
    "    TE = layers.Input(shape=trainTE.shape[1:], dtype=tf.int32) # int32\n",
    "\n",
    "    Y = mymodels.ModelSet(model_name=args.model_name, extdata=extdata, args=args, X=X, ZC=ZC, ZF=ZF, TE=TE)\n",
    "    model = keras.models.Model((X, ZC, ZF, TE), Y)\n",
    "    return model\n",
    "\n",
    "model = model_define()\n",
    "# model.summary()\n",
    "# optimizer = keras.optimizers.Adam(lr=args.learning_rate)\n",
    "\n",
    "def custom_mape_loss(label, pred):\n",
    "    mask = tf.not_equal(label, 0)\n",
    "    mask = tf.cast(mask, tf.float32)\n",
    "    mask /= tf.reduce_mean(mask)\n",
    "    mask = tf.compat.v2.where(\n",
    "        condition = tf.math.is_nan(mask), x = 0., y = mask)\n",
    "    # loss = tf.abs(tf.subtract(pred, label))\n",
    "    loss = 100 * abs((pred - label) / (label+1e-3))\n",
    "    loss *= mask\n",
    "    loss = tf.compat.v2.where(\n",
    "        condition = tf.math.is_nan(loss), x = 0., y = loss)\n",
    "    loss = tf.reduce_mean(loss)\n",
    "    return loss\n",
    "\n",
    "# model.compile(loss=custom_mape_loss, optimizer=optimizer)\n",
    "\n",
    "# Define some callbacks to improve training.\n",
    "# early_stopping = keras.callbacks.EarlyStopping(monitor=\"val_loss\", patience=args.patience)\n",
    "# reduce_lr = keras.callbacks.ReduceLROnPlateau(monitor=\"val_loss\", factor=0.2, patience=args.decay_epoch)\n",
    "# model_ckpt = tf.keras.callbacks.ModelCheckpoint(args.model_checkpoint, save_weights_only=True, save_best_only=True, monitor='val_loss', mode='min', verbose=0)\n",
    "\n",
    "\n",
    "# model.fit(\n",
    "#     (trainX, trainZC, trainZF, trainTE), trainY,\n",
    "#     batch_size=args.batch_size,\n",
    "#     epochs=args.max_epoch,\n",
    "#     validation_data=((valX, valZC, valZF, valTE), valY),\n",
    "#     callbacks=[early_stopping, reduce_lr, model_ckpt],\n",
    "# )\n",
    "\n",
    "model = model_define()\n",
    "model.load_weights(args.model_checkpoint)\n",
    "\n",
    "pred = model.predict((testX, testZC, testZF, testTE))\n",
    "label = testY\n",
    "print(f'{args.model_name}', utils.metric(pred, label), sep='\\t')\n",
    "\n",
    "\n",
    "# np.save(f'{args.test_dir}/label.npy', label)\n",
    "# np.save(f'{args.test_dir}/pred_{args.test_name}.npy', pred)\n"
   ]
  },
  {
   "cell_type": "code",
   "execution_count": null,
   "id": "519af9ae",
   "metadata": {},
   "outputs": [],
   "source": [
    "traf_df = pd.read_hdf('../prepdata/traffic-volume-A-20180101-20190101.df')\n",
    "warns = np.isnan(traf_df.iloc[24*59:24*151]).sum(0) > 900"
   ]
  },
  {
   "cell_type": "code",
   "execution_count": null,
   "id": "3c1eea62",
   "metadata": {},
   "outputs": [
    {
     "name": "stdout",
     "output_type": "stream",
     "text": [
      "MyDCGRUSTE0ZCFBU\t(50.623768, 93.11515, 0.07989559268620627)\n"
     ]
    }
   ],
   "source": [
    "print(f'{args.model_name}', utils.metric(pred[..., ~warns], label[..., ~warns]), sep='\\t')"
   ]
  },
  {
   "cell_type": "code",
   "execution_count": 8,
   "id": "dff7af42",
   "metadata": {},
   "outputs": [],
   "source": [
    "import matplotlib.pyplot as plt"
   ]
  },
  {
   "cell_type": "code",
   "execution_count": 9,
   "id": "018bd557",
   "metadata": {},
   "outputs": [
    {
     "name": "stdout",
     "output_type": "stream",
     "text": [
      "WARNING:tensorflow:From /tmp/ipykernel_25784/2597461789.py:1: The name tf.global_variables_initializer is deprecated. Please use tf.compat.v1.global_variables_initializer instead.\n",
      "\n",
      "WARNING:tensorflow:From /tmp/ipykernel_25784/2597461789.py:2: The name tf.Session is deprecated. Please use tf.compat.v1.Session instead.\n",
      "\n"
     ]
    },
    {
     "name": "stderr",
     "output_type": "stream",
     "text": [
      "2022-09-29 14:17:58.374509: I tensorflow/core/common_runtime/gpu/gpu_device.cc:1618] Found device 0 with properties: \n",
      "name: NVIDIA GeForce GTX 1080 Ti major: 6 minor: 1 memoryClockRate(GHz): 1.582\n",
      "pciBusID: 0000:04:00.0\n",
      "2022-09-29 14:17:58.374639: I tensorflow/stream_executor/platform/default/dso_loader.cc:44] Successfully opened dynamic library libcudart.so.10.0\n",
      "2022-09-29 14:17:58.374718: I tensorflow/stream_executor/platform/default/dso_loader.cc:44] Successfully opened dynamic library libcublas.so.10.0\n",
      "2022-09-29 14:17:58.374767: I tensorflow/stream_executor/platform/default/dso_loader.cc:44] Successfully opened dynamic library libcufft.so.10.0\n",
      "2022-09-29 14:17:58.374803: I tensorflow/stream_executor/platform/default/dso_loader.cc:44] Successfully opened dynamic library libcurand.so.10.0\n",
      "2022-09-29 14:17:58.374838: I tensorflow/stream_executor/platform/default/dso_loader.cc:44] Successfully opened dynamic library libcusolver.so.10.0\n",
      "2022-09-29 14:17:58.374872: I tensorflow/stream_executor/platform/default/dso_loader.cc:44] Successfully opened dynamic library libcusparse.so.10.0\n",
      "2022-09-29 14:17:58.374908: I tensorflow/stream_executor/platform/default/dso_loader.cc:44] Successfully opened dynamic library libcudnn.so.7\n",
      "2022-09-29 14:17:58.379679: I tensorflow/core/common_runtime/gpu/gpu_device.cc:1746] Adding visible gpu devices: 0\n",
      "2022-09-29 14:17:58.379738: I tensorflow/core/common_runtime/gpu/gpu_device.cc:1159] Device interconnect StreamExecutor with strength 1 edge matrix:\n",
      "2022-09-29 14:17:58.379748: I tensorflow/core/common_runtime/gpu/gpu_device.cc:1165]      0 \n",
      "2022-09-29 14:17:58.379756: I tensorflow/core/common_runtime/gpu/gpu_device.cc:1178] 0:   N \n",
      "2022-09-29 14:17:58.387433: I tensorflow/core/common_runtime/gpu/gpu_device.cc:1304] Created TensorFlow device (/job:localhost/replica:0/task:0/device:GPU:0 with 10489 MB memory) -> physical GPU (device: 0, name: NVIDIA GeForce GTX 1080 Ti, pci bus id: 0000:04:00.0, compute capability: 6.1)\n"
     ]
    }
   ],
   "source": [
    "init = tf.global_variables_initializer()\n",
    "sess = tf.Session()\n",
    "sess.run(init)\n",
    "# W1 = model.layers[4].FC_ZC_trans.weights[0]\n",
    "# array = W1.eval(sess)\n",
    "# array = array.reshape(extdata['CH']-2, extdata['CW']-2, 48)"
   ]
  },
  {
   "cell_type": "code",
   "execution_count": 15,
   "id": "9bad61d1",
   "metadata": {},
   "outputs": [
    {
     "data": {
      "text/plain": [
       "<tf.Variable 'my_dcgrust_e0zcfbu_1/conv_lst_m2d_6/kernel:0' shape=(3, 3, 64, 256) dtype=float32>"
      ]
     },
     "execution_count": 15,
     "metadata": {},
     "output_type": "execute_result"
    }
   ],
   "source": []
  },
  {
   "cell_type": "code",
   "execution_count": 16,
   "id": "0f416634",
   "metadata": {},
   "outputs": [
    {
     "name": "stderr",
     "output_type": "stream",
     "text": [
      "2022-09-29 14:19:55.159627: I tensorflow/core/common_runtime/gpu/gpu_device.cc:1618] Found device 0 with properties: \n",
      "name: NVIDIA GeForce GTX 1080 Ti major: 6 minor: 1 memoryClockRate(GHz): 1.582\n",
      "pciBusID: 0000:04:00.0\n",
      "2022-09-29 14:19:55.159833: I tensorflow/stream_executor/platform/default/dso_loader.cc:44] Successfully opened dynamic library libcudart.so.10.0\n",
      "2022-09-29 14:19:55.159904: I tensorflow/stream_executor/platform/default/dso_loader.cc:44] Successfully opened dynamic library libcublas.so.10.0\n",
      "2022-09-29 14:19:55.159951: I tensorflow/stream_executor/platform/default/dso_loader.cc:44] Successfully opened dynamic library libcufft.so.10.0\n",
      "2022-09-29 14:19:55.159990: I tensorflow/stream_executor/platform/default/dso_loader.cc:44] Successfully opened dynamic library libcurand.so.10.0\n",
      "2022-09-29 14:19:55.160029: I tensorflow/stream_executor/platform/default/dso_loader.cc:44] Successfully opened dynamic library libcusolver.so.10.0\n",
      "2022-09-29 14:19:55.160067: I tensorflow/stream_executor/platform/default/dso_loader.cc:44] Successfully opened dynamic library libcusparse.so.10.0\n",
      "2022-09-29 14:19:55.160106: I tensorflow/stream_executor/platform/default/dso_loader.cc:44] Successfully opened dynamic library libcudnn.so.7\n",
      "2022-09-29 14:19:55.165630: I tensorflow/core/common_runtime/gpu/gpu_device.cc:1746] Adding visible gpu devices: 0\n",
      "2022-09-29 14:19:55.165691: I tensorflow/core/common_runtime/gpu/gpu_device.cc:1159] Device interconnect StreamExecutor with strength 1 edge matrix:\n",
      "2022-09-29 14:19:55.165701: I tensorflow/core/common_runtime/gpu/gpu_device.cc:1165]      0 \n",
      "2022-09-29 14:19:55.165708: I tensorflow/core/common_runtime/gpu/gpu_device.cc:1178] 0:   N \n",
      "2022-09-29 14:19:55.171255: I tensorflow/core/common_runtime/gpu/gpu_device.cc:1304] Created TensorFlow device (/job:localhost/replica:0/task:0/device:GPU:0 with 10489 MB memory) -> physical GPU (device: 0, name: NVIDIA GeForce GTX 1080 Ti, pci bus id: 0000:04:00.0, compute capability: 6.1)\n"
     ]
    }
   ],
   "source": [
    "init = tf.global_variables_initializer()\n",
    "sess = tf.Session()\n",
    "sess.run(init)\n",
    "W1 = model.layers[4].FC_ZF_ConvLSTM.weights[0]\n",
    "array = W1.eval(sess)"
   ]
  },
  {
   "cell_type": "code",
   "execution_count": 40,
   "id": "cae230a8",
   "metadata": {},
   "outputs": [
    {
     "data": {
      "text/plain": [
       "<matplotlib.colorbar.Colorbar at 0x7f71e0323990>"
      ]
     },
     "execution_count": 40,
     "metadata": {},
     "output_type": "execute_result"
    },
    {
     "data": {
      "image/png": "[encoded data removed]",
      "text/plain": [
       "<Figure size 288x288 with 2 Axes>"
      ]
     },
     "metadata": {
      "needs_background": "light"
     },
     "output_type": "display_data"
    }
   ],
   "source": [
    "plt.matshow(array[:, :, 8, 16])\n",
    "plt.colorbar()"
   ]
  },
  {
   "cell_type": "code",
   "execution_count": 9,
   "id": "dde77235",
   "metadata": {},
   "outputs": [
    {
     "name": "stderr",
     "output_type": "stream",
     "text": [
      "2022-09-28 13:28:26.401025: I tensorflow/core/common_runtime/gpu/gpu_device.cc:1618] Found device 0 with properties: \n",
      "name: NVIDIA GeForce GTX 1080 Ti major: 6 minor: 1 memoryClockRate(GHz): 1.582\n",
      "pciBusID: 0000:04:00.0\n",
      "2022-09-28 13:28:26.401195: I tensorflow/stream_executor/platform/default/dso_loader.cc:44] Successfully opened dynamic library libcudart.so.10.0\n",
      "2022-09-28 13:28:26.401262: I tensorflow/stream_executor/platform/default/dso_loader.cc:44] Successfully opened dynamic library libcublas.so.10.0\n",
      "2022-09-28 13:28:26.401316: I tensorflow/stream_executor/platform/default/dso_loader.cc:44] Successfully opened dynamic library libcufft.so.10.0\n",
      "2022-09-28 13:28:26.401388: I tensorflow/stream_executor/platform/default/dso_loader.cc:44] Successfully opened dynamic library libcurand.so.10.0\n",
      "2022-09-28 13:28:26.401443: I tensorflow/stream_executor/platform/default/dso_loader.cc:44] Successfully opened dynamic library libcusolver.so.10.0\n",
      "2022-09-28 13:28:26.401495: I tensorflow/stream_executor/platform/default/dso_loader.cc:44] Successfully opened dynamic library libcusparse.so.10.0\n",
      "2022-09-28 13:28:26.401549: I tensorflow/stream_executor/platform/default/dso_loader.cc:44] Successfully opened dynamic library libcudnn.so.7\n",
      "2022-09-28 13:28:26.406324: I tensorflow/core/common_runtime/gpu/gpu_device.cc:1746] Adding visible gpu devices: 0\n",
      "2022-09-28 13:28:26.406449: I tensorflow/core/common_runtime/gpu/gpu_device.cc:1159] Device interconnect StreamExecutor with strength 1 edge matrix:\n",
      "2022-09-28 13:28:26.406471: I tensorflow/core/common_runtime/gpu/gpu_device.cc:1165]      0 \n",
      "2022-09-28 13:28:26.406487: I tensorflow/core/common_runtime/gpu/gpu_device.cc:1178] 0:   N \n",
      "2022-09-28 13:28:26.412049: I tensorflow/core/common_runtime/gpu/gpu_device.cc:1304] Created TensorFlow device (/job:localhost/replica:0/task:0/device:GPU:0 with 10489 MB memory) -> physical GPU (device: 0, name: NVIDIA GeForce GTX 1080 Ti, pci bus id: 0000:04:00.0, compute capability: 6.1)\n"
     ]
    }
   ],
   "source": [
    "init = tf.global_variables_initializer()\n",
    "sess = tf.Session()\n",
    "sess.run(init)\n",
    "W1 = model.layers[4].FC_ZC_trans.weights[0]\n",
    "array = W1.eval(sess)\n",
    "array = array.reshape(extdata['CH']-2, extdata['CW']-2, 48)"
   ]
  },
  {
   "cell_type": "code",
   "execution_count": 1,
   "id": "e7c4dee6",
   "metadata": {},
   "outputs": [
    {
     "ename": "ModuleNotFoundError",
     "evalue": "No module named 'ipywidgets'",
     "output_type": "error",
     "traceback": [
      "\u001b[0;31m---------------------------------------------------------------------------\u001b[0m",
      "\u001b[0;31mModuleNotFoundError\u001b[0m                       Traceback (most recent call last)",
      "\u001b[0;32m/tmp/ipykernel_955373/2366863809.py\u001b[0m in \u001b[0;36m<module>\u001b[0;34m\u001b[0m\n\u001b[0;32m----> 1\u001b[0;31m \u001b[0;32mfrom\u001b[0m \u001b[0mipywidgets\u001b[0m \u001b[0;32mimport\u001b[0m \u001b[0;34m*\u001b[0m\u001b[0;34m\u001b[0m\u001b[0;34m\u001b[0m\u001b[0m\n\u001b[0m",
      "\u001b[0;31mModuleNotFoundError\u001b[0m: No module named 'ipywidgets'"
     ]
    }
   ],
   "source": [
    "from ipywidgets import *"
   ]
  },
  {
   "cell_type": "code",
   "execution_count": 11,
   "id": "5ad7ef69",
   "metadata": {},
   "outputs": [
    {
     "data": {
      "application/vnd.jupyter.widget-view+json": {
       "model_id": "18a4eae8a02d4b12a8d3f65589e5ba11",
       "version_major": 2,
       "version_minor": 0
      },
      "text/plain": [
       "interactive(children=(IntSlider(value=23, description='i', max=47), Output()), _dom_classes=('widget-interact'…"
      ]
     },
     "metadata": {},
     "output_type": "display_data"
    },
    {
     "data": {
      "text/plain": [
       "<function __main__.f(i)>"
      ]
     },
     "execution_count": 11,
     "metadata": {},
     "output_type": "execute_result"
    }
   ],
   "source": [
    "def f(i):\n",
    "    plt.matshow(array[..., i])\n",
    "    plt.colorbar()\n",
    "    plt.show()\n",
    "    plt.matshow(array.mean(-1))\n",
    "    plt.colorbar()\n",
    "    plt.show()\n",
    "\n",
    "\n",
    "interact(f, i=(0, array.shape[-1]-1))    "
   ]
  },
  {
   "cell_type": "code",
   "execution_count": null,
   "id": "92016d95",
   "metadata": {},
   "outputs": [],
   "source": []
  },
  {
   "cell_type": "code",
   "execution_count": null,
   "id": "40591582",
   "metadata": {},
   "outputs": [],
   "source": []
  },
  {
   "cell_type": "code",
   "execution_count": null,
   "id": "9a6d7896",
   "metadata": {},
   "outputs": [],
   "source": []
  },
  {
   "cell_type": "code",
   "execution_count": null,
   "id": "440c5849",
   "metadata": {},
   "outputs": [],
   "source": []
  }
 ],
 "metadata": {
  "kernelspec": {
   "display_name": "Python 3.7.10 ('AAAITEST')",
   "language": "python",
   "name": "python3"
  },
  "language_info": {
   "codemirror_mode": {
    "name": "ipython",
    "version": 3
   },
   "file_extension": ".py",
   "mimetype": "text/x-python",
   "name": "python",
   "nbconvert_exporter": "python",
   "pygments_lexer": "ipython3",
   "version": "3.7.10"
  },
  "vscode": {
   "interpreter": {
    "hash": "3a62ed8f84430da5292381b819c51184119fb4dbbd8426407a2f0de888d487ac"
   }
  }
 },
 "nbformat": 4,
 "nbformat_minor": 5
}
